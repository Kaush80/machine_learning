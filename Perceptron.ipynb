{
  "nbformat": 4,
  "nbformat_minor": 0,
  "metadata": {
    "colab": {
      "name": "Perceptron.ipynb",
      "provenance": [],
      "authorship_tag": "ABX9TyO0ti+K3Nnb4FYge+Ha3FKi",
      "include_colab_link": true
    },
    "kernelspec": {
      "name": "python3",
      "display_name": "Python 3"
    }
  },
  "cells": [
    {
      "cell_type": "markdown",
      "metadata": {
        "id": "view-in-github",
        "colab_type": "text"
      },
      "source": [
        "<a href=\"https://colab.research.google.com/github/Kaush80/machine_learning/blob/main/Perceptron.ipynb\" target=\"_parent\"><img src=\"https://colab.research.google.com/assets/colab-badge.svg\" alt=\"Open In Colab\"/></a>"
      ]
    },
    {
      "cell_type": "code",
      "metadata": {
        "id": "ntcNisRr3fsD"
      },
      "source": [
        "import numpy as np\r\n",
        "import pandas as pd\r\n",
        "import matplotlib.pyplot as plt\r\n",
        "from matplotlib.colors import ListedColormap"
      ],
      "execution_count": null,
      "outputs": []
    },
    {
      "cell_type": "code",
      "metadata": {
        "id": "-IZeYlJC36iy"
      },
      "source": [
        "class Perceptron:\r\n",
        "  '''\r\n",
        "  Classifier with perceptron rule\r\n",
        "\r\n",
        "  Parameters\r\n",
        "  ----------\r\n",
        "  eta : float\r\n",
        "        learning rate (between 0.0 - 1.0)\r\n",
        "  n_iter : int\r\n",
        "          number of epochs\r\n",
        "  random_state : int\r\n",
        "      Random number generator seed for random weight\r\n",
        "      initialization.\r\n",
        "  Attributes\r\n",
        "  ----------\r\n",
        "  w_ : 1d-array\r\n",
        "      weights after fitting\r\n",
        "  \r\n",
        "  errors_ : 1d-array\r\n",
        "            number of errors in each epoch\r\n",
        "  '''\r\n",
        "  def __init__(self, eta=0.01, n_iter=50, random_state=1):\r\n",
        "    self.eta=eta\r\n",
        "    self.n_iter=n_iter\r\n",
        "    self.random_state=random_state\r\n",
        "\r\n",
        "  def fit(self,X,y):\r\n",
        "    '''\r\n",
        "    Fit training data\r\n",
        "\r\n",
        "    Parameters:\r\n",
        "    -----------\r\n",
        "    X: later\r\n",
        "    '''\r\n",
        "    rgen=np.random.RandomState(self.random_state)\r\n",
        "    self.w_= rgen.normal(loc=0.0, scale=0.01, size=1 + X.shape[1])\r\n",
        "    self.errors_=[]\r\n",
        "    for _ in range(self.n_iter):\r\n",
        "      errors=0\r\n",
        "      for xi , target in zip(X,y):\r\n",
        "        update=self.eta*(target - self.predict(xi))\r\n",
        "        self.w_[1:]+=update*xi\r\n",
        "        self.w_[0]+=update\r\n",
        "        errors+=int(update !=0.0)\r\n",
        "      self.errors_.append(errors)\r\n",
        "    return self\r\n",
        "\r\n",
        "  def net_input(self, X):\r\n",
        "    return np.dot(X,self.w_[1:])+self.w_[0] \r\n",
        "\r\n",
        "  def predict(self,X):\r\n",
        "    '''returns class label afer unit step'''\r\n",
        "    return np.where(self.net_input(X)>=0.0,1,-1)\r\n"
      ],
      "execution_count": null,
      "outputs": []
    },
    {
      "cell_type": "code",
      "metadata": {
        "id": "PADtVGRUCxRM"
      },
      "source": [
        "df = pd.read_csv('https://archive.ics.uci.edu/ml/''machine-learning-databases/iris/iris.data', header=None)"
      ],
      "execution_count": null,
      "outputs": []
    },
    {
      "cell_type": "code",
      "metadata": {
        "colab": {
          "base_uri": "https://localhost:8080/"
        },
        "id": "vGO1tGowDDCI",
        "outputId": "43275e21-10f4-463a-a531-886cc62d622e"
      },
      "source": [
        "df.tail"
      ],
      "execution_count": null,
      "outputs": [
        {
          "output_type": "execute_result",
          "data": {
            "text/plain": [
              "<bound method NDFrame.tail of        0    1    2    3               4\n",
              "0    5.1  3.5  1.4  0.2     Iris-setosa\n",
              "1    4.9  3.0  1.4  0.2     Iris-setosa\n",
              "2    4.7  3.2  1.3  0.2     Iris-setosa\n",
              "3    4.6  3.1  1.5  0.2     Iris-setosa\n",
              "4    5.0  3.6  1.4  0.2     Iris-setosa\n",
              "..   ...  ...  ...  ...             ...\n",
              "145  6.7  3.0  5.2  2.3  Iris-virginica\n",
              "146  6.3  2.5  5.0  1.9  Iris-virginica\n",
              "147  6.5  3.0  5.2  2.0  Iris-virginica\n",
              "148  6.2  3.4  5.4  2.3  Iris-virginica\n",
              "149  5.9  3.0  5.1  1.8  Iris-virginica\n",
              "\n",
              "[150 rows x 5 columns]>"
            ]
          },
          "metadata": {
            "tags": []
          },
          "execution_count": 4
        }
      ]
    },
    {
      "cell_type": "code",
      "metadata": {
        "colab": {
          "base_uri": "https://localhost:8080/",
          "height": 279
        },
        "id": "MxpdmQi-t8pR",
        "outputId": "2694e1b3-050d-4a03-bdff-f4d1cfc71ed8"
      },
      "source": [
        "y=df.iloc[0:100,4].values\r\n",
        "y=np.where(y=='Iris-setosa', -1,1)\r\n",
        "X=df.iloc[0:100,[0,2]].values\r\n",
        "plt.scatter(X[0:50,0],X[0:50,1],color='red',marker='o',label='setoss')\r\n",
        "plt.scatter(X[50:100,0],X[50:100,1],color='blue',marker='x',label='versicolor')\r\n",
        "plt.xlabel('petal length')\r\n",
        "plt.ylabel('sepal lenght')\r\n",
        "plt.legend(loc='upper left')\r\n",
        "plt.show()"
      ],
      "execution_count": null,
      "outputs": [
        {
          "output_type": "display_data",
          "data": {
            "image/png": "[encoded data removed]",
            "text/plain": [
              "<Figure size 432x288 with 1 Axes>"
            ]
          },
          "metadata": {
            "tags": [],
            "needs_background": "light"
          }
        }
      ]
    },
    {
      "cell_type": "code",
      "metadata": {
        "colab": {
          "base_uri": "https://localhost:8080/",
          "height": 279
        },
        "id": "yA_wqTqIx-X9",
        "outputId": "bfca86ee-461e-4176-8837-26e575127ef3"
      },
      "source": [
        "\r\n",
        "ppn = Perceptron(eta=0.1, n_iter=10)\r\n",
        "\r\n",
        "ppn.fit(X, y)\r\n",
        "\r\n",
        "plt.plot(range(1, len(ppn.errors_) + 1), ppn.errors_, marker='o')\r\n",
        "plt.xlabel('Epochs')\r\n",
        "plt.ylabel('Number of updates')\r\n",
        "plt.show()\r\n"
      ],
      "execution_count": null,
      "outputs": [
        {
          "output_type": "display_data",
          "data": {
            "image/png": "[encoded data removed]",
            "text/plain": [
              "<Figure size 432x288 with 1 Axes>"
            ]
          },
          "metadata": {
            "tags": [],
            "needs_background": "light"
          }
        }
      ]
    },
    {
      "cell_type": "code",
      "metadata": {
        "id": "GT9jjYkr0B5E"
      },
      "source": [
        "def plot_decision_regions(X, y, classifier, resolution=0.02):\r\n",
        "\r\n",
        "    # setup marker generator and color map\r\n",
        "    markers = ('s', 'x', 'o', '^', 'v')\r\n",
        "    colors = ('red', 'blue', 'lightgreen', 'gray', 'cyan')\r\n",
        "    cmap = ListedColormap(colors[:len(np.unique(y))])\r\n",
        "\r\n",
        "    # plot the decision surface\r\n",
        "    x1_min, x1_max = X[:, 0].min() - 1, X[:, 0].max() + 1\r\n",
        "    x2_min, x2_max = X[:, 1].min() - 1, X[:, 1].max() + 1\r\n",
        "    xx1, xx2 = np.meshgrid(np.arange(x1_min, x1_max, resolution),\r\n",
        "                           np.arange(x2_min, x2_max, resolution))\r\n",
        "    Z = classifier.predict(np.array([xx1.ravel(), xx2.ravel()]).T)\r\n",
        "    Z = Z.reshape(xx1.shape)\r\n",
        "    plt.contourf(xx1, xx2, Z, alpha=0.3, cmap=cmap)\r\n",
        "    plt.xlim(xx1.min(), xx1.max())\r\n",
        "    plt.ylim(xx2.min(), xx2.max())\r\n",
        "\r\n",
        "    # plot class examples\r\n",
        "    for idx, cl in enumerate(np.unique(y)):\r\n",
        "        plt.scatter(x=X[y == cl, 0], \r\n",
        "                    y=X[y == cl, 1],\r\n",
        "                    alpha=0.8, \r\n",
        "                    c=colors[idx],\r\n",
        "                    marker=markers[idx], \r\n",
        "                    label=cl, \r\n",
        "                    edgecolor='black')\r\n"
      ],
      "execution_count": null,
      "outputs": []
    },
    {
      "cell_type": "code",
      "metadata": {
        "colab": {
          "base_uri": "https://localhost:8080/",
          "height": 280
        },
        "id": "NV6mBJKA_BRe",
        "outputId": "199c75d0-9eba-4cd9-ecd4-aa74a691f21e"
      },
      "source": [
        "plot_decision_regions(X, y, classifier=ppn)\r\n",
        "plt.xlabel('sepal length [cm]')\r\n",
        "plt.ylabel('petal length [cm]')\r\n",
        "plt.legend(loc='upper left')\r\n",
        "\r\n",
        "\r\n",
        "# plt.savefig('images/02_08.png', dpi=300)\r\n",
        "plt.show()\r\n"
      ],
      "execution_count": null,
      "outputs": [
        {
          "output_type": "display_data",
          "data": {
            "image/png": "[encoded data removed]",
            "text/plain": [
              "<Figure size 432x288 with 1 Axes>"
            ]
          },
          "metadata": {
            "tags": [],
            "needs_background": "light"
          }
        }
      ]
    }
  ]
}