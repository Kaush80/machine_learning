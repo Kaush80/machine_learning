{
  "nbformat": 4,
  "nbformat_minor": 0,
  "metadata": {
    "colab": {
      "name": "Custom_modules.ipynb",
      "provenance": [],
      "authorship_tag": "ABX9TyNsK5rB8a+ap2XDiOFtYmRH",
      "include_colab_link": true
    },
    "kernelspec": {
      "name": "python3",
      "display_name": "Python 3"
    }
  },
  "cells": [
    {
      "cell_type": "markdown",
      "metadata": {
        "id": "view-in-github",
        "colab_type": "text"
      },
      "source": [
        "<a href=\"https://colab.research.google.com/github/Kaush80/machine_learning/blob/main/deeplr/Custom_modules.ipynb\" target=\"_parent\"><img src=\"https://colab.research.google.com/assets/colab-badge.svg\" alt=\"Open In Colab\"/></a>"
      ]
    },
    {
      "cell_type": "code",
      "metadata": {
        "id": "zX9g3J1b3FQ1"
      },
      "source": [
        "import torch\r\n",
        "import torch.nn as nn\r\n",
        "import matplotlib.pyplot as plt\r\n",
        "import numpy as np\r\n"
      ],
      "execution_count": null,
      "outputs": []
    },
    {
      "cell_type": "code",
      "metadata": {
        "colab": {
          "base_uri": "https://localhost:8080/",
          "height": 296
        },
        "id": "TyFaFcFn8dwu",
        "outputId": "b56017e9-d5f7-4bc6-d7c5-f680bbc8e645"
      },
      "source": [
        "X=torch.randn(100,1)*10\r\n",
        "y=X + 3*torch.randn(100,1)\r\n",
        "plt.plot(X.numpy(),y.numpy(),'o')\r\n",
        "plt.ylabel('y')\r\n",
        "plt.xlabel('x')"
      ],
      "execution_count": null,
      "outputs": [
        {
          "output_type": "execute_result",
          "data": {
            "text/plain": [
              "Text(0.5, 0, 'x')"
            ]
          },
          "metadata": {
            "tags": []
          },
          "execution_count": 2
        },
        {
          "output_type": "display_data",
          "data": {
            "image/png": "[encoded data removed]",
            "text/plain": [
              "<Figure size 432x288 with 1 Axes>"
            ]
          },
          "metadata": {
            "tags": [],
            "needs_background": "light"
          }
        }
      ]
    },
    {
      "cell_type": "code",
      "metadata": {
        "id": "wqztKJmJ3Z-y"
      },
      "source": [
        "class LR(nn.Module):\r\n",
        "  def __init__(self, input_size, output_size):\r\n",
        "    super().__init__()\r\n",
        "    self.linear=nn.Linear(input_size,output_size)\r\n",
        "  def forward(self, x):\r\n",
        "    pred=self.linear(x)\r\n",
        "    return pred"
      ],
      "execution_count": null,
      "outputs": []
    },
    {
      "cell_type": "code",
      "metadata": {
        "id": "LjcAG3b55f5n"
      },
      "source": [
        "torch.manual_seed(1)\r\n",
        "model=LR(1, 1)"
      ],
      "execution_count": null,
      "outputs": []
    },
    {
      "cell_type": "code",
      "metadata": {
        "id": "n28Hy5J095By"
      },
      "source": [
        "[w,b] =model.parameters()\r\n",
        "def get_params():\r\n",
        "  return (w[0][0].item(),b[0].item())"
      ],
      "execution_count": null,
      "outputs": []
    },
    {
      "cell_type": "code",
      "metadata": {
        "id": "pWCIhJ8B_Cr-"
      },
      "source": [
        "def plot_fit(title):\r\n",
        "  plt.title=title\r\n",
        "  w1,b1=get_params()\r\n",
        "  x1=np.array([-30,30])\r\n",
        "  y1=w1*x1+b1\r\n",
        "  plt.plot(x1,y1,'r')\r\n",
        "  plt.scatter(X,y)\r\n",
        "  plt.show()"
      ],
      "execution_count": null,
      "outputs": []
    },
    {
      "cell_type": "code",
      "metadata": {
        "colab": {
          "base_uri": "https://localhost:8080/",
          "height": 265
        },
        "id": "qrkso6jc_njD",
        "outputId": "2a948bc0-3b51-4058-c96d-1e340bb7d4a8"
      },
      "source": [
        "plot_fit('initial model')"
      ],
      "execution_count": null,
      "outputs": [
        {
          "output_type": "display_data",
          "data": {
            "image/png": "[encoded data removed]",
            "text/plain": [
              "<Figure size 432x288 with 1 Axes>"
            ]
          },
          "metadata": {
            "tags": [],
            "needs_background": "light"
          }
        }
      ]
    },
    {
      "cell_type": "code",
      "metadata": {
        "id": "2X97-L4iDMbM"
      },
      "source": [
        "#built in loss function\r\n",
        "criterion = nn.MSELoss()\r\n",
        "optimizer = torch.optim.SGD(model.parameters(),lr=0.01)"
      ],
      "execution_count": null,
      "outputs": []
    },
    {
      "cell_type": "code",
      "metadata": {
        "colab": {
          "base_uri": "https://localhost:8080/"
        },
        "id": "Pr3eyjUXFLEb",
        "outputId": "bee98b7c-9a69-4890-ef13-3f3582499472"
      },
      "source": [
        "#one epoch is single pass thhrough entire dataset\r\n",
        "epochs = 100\r\n",
        "losses=[]\r\n",
        "for i in range(epochs):\r\n",
        "  y_pred = model.forward(X)\r\n",
        "  loss = criterion(y_pred, y)\r\n",
        "  print('epoch:', i, \"Loss:\", loss.item())\r\n",
        "  losses.append(loss)\r\n",
        "  optimizer.zero_grad()\r\n",
        "  loss.backward()\r\n",
        "  optimizer.step()"
      ],
      "execution_count": null,
      "outputs": [
        {
          "output_type": "stream",
          "text": [
            "epoch: 0 Loss: 29.176488876342773\n",
            "epoch: 1 Loss: 27.700782775878906\n",
            "epoch: 2 Loss: 26.32370376586914\n",
            "epoch: 3 Loss: 25.038623809814453\n",
            "epoch: 4 Loss: 23.839405059814453\n",
            "epoch: 5 Loss: 22.720294952392578\n",
            "epoch: 6 Loss: 21.675928115844727\n",
            "epoch: 7 Loss: 20.701305389404297\n",
            "epoch: 8 Loss: 19.79175567626953\n",
            "epoch: 9 Loss: 18.942947387695312\n",
            "epoch: 10 Loss: 18.150794982910156\n",
            "epoch: 11 Loss: 17.411535263061523\n",
            "epoch: 12 Loss: 16.72161293029785\n",
            "epoch: 13 Loss: 16.077733993530273\n",
            "epoch: 14 Loss: 15.476812362670898\n",
            "epoch: 15 Loss: 14.915982246398926\n",
            "epoch: 16 Loss: 14.392560958862305\n",
            "epoch: 17 Loss: 13.904047966003418\n",
            "epoch: 18 Loss: 13.448110580444336\n",
            "epoch: 19 Loss: 13.022577285766602\n",
            "epoch: 20 Loss: 12.625415802001953\n",
            "epoch: 21 Loss: 12.25472640991211\n",
            "epoch: 22 Loss: 11.908740997314453\n",
            "epoch: 23 Loss: 11.585805892944336\n",
            "epoch: 24 Loss: 11.284387588500977\n",
            "epoch: 25 Loss: 11.003046035766602\n",
            "epoch: 26 Loss: 10.740439414978027\n",
            "epoch: 27 Loss: 10.495319366455078\n",
            "epoch: 28 Loss: 10.266515731811523\n",
            "epoch: 29 Loss: 10.052938461303711\n",
            "epoch: 30 Loss: 9.8535737991333\n",
            "epoch: 31 Loss: 9.667475700378418\n",
            "epoch: 32 Loss: 9.493748664855957\n",
            "epoch: 33 Loss: 9.331579208374023\n",
            "epoch: 34 Loss: 9.180190086364746\n",
            "epoch: 35 Loss: 9.038861274719238\n",
            "epoch: 36 Loss: 8.9069242477417\n",
            "epoch: 37 Loss: 8.783753395080566\n",
            "epoch: 38 Loss: 8.66876220703125\n",
            "epoch: 39 Loss: 8.561402320861816\n",
            "epoch: 40 Loss: 8.46117115020752\n",
            "epoch: 41 Loss: 8.367591857910156\n",
            "epoch: 42 Loss: 8.280219078063965\n",
            "epoch: 43 Loss: 8.198639869689941\n",
            "epoch: 44 Loss: 8.12247085571289\n",
            "epoch: 45 Loss: 8.051348686218262\n",
            "epoch: 46 Loss: 7.9849395751953125\n",
            "epoch: 47 Loss: 7.922928333282471\n",
            "epoch: 48 Loss: 7.865022659301758\n",
            "epoch: 49 Loss: 7.810947418212891\n",
            "epoch: 50 Loss: 7.76045036315918\n",
            "epoch: 51 Loss: 7.71329402923584\n",
            "epoch: 52 Loss: 7.669254302978516\n",
            "epoch: 53 Loss: 7.628123760223389\n",
            "epoch: 54 Loss: 7.589712619781494\n",
            "epoch: 55 Loss: 7.553836822509766\n",
            "epoch: 56 Loss: 7.520327091217041\n",
            "epoch: 57 Loss: 7.489030361175537\n",
            "epoch: 58 Loss: 7.459795951843262\n",
            "epoch: 59 Loss: 7.432488918304443\n",
            "epoch: 60 Loss: 7.406980037689209\n",
            "epoch: 61 Loss: 7.383150577545166\n",
            "epoch: 62 Loss: 7.360889911651611\n",
            "epoch: 63 Loss: 7.340092658996582\n",
            "epoch: 64 Loss: 7.320662975311279\n",
            "epoch: 65 Loss: 7.302509307861328\n",
            "epoch: 66 Loss: 7.285547256469727\n",
            "epoch: 67 Loss: 7.269699573516846\n",
            "epoch: 68 Loss: 7.2548909187316895\n",
            "epoch: 69 Loss: 7.241052150726318\n",
            "epoch: 70 Loss: 7.22812032699585\n",
            "epoch: 71 Loss: 7.216034412384033\n",
            "epoch: 72 Loss: 7.204740047454834\n",
            "epoch: 73 Loss: 7.194183349609375\n",
            "epoch: 74 Loss: 7.184317111968994\n",
            "epoch: 75 Loss: 7.1750946044921875\n",
            "epoch: 76 Loss: 7.166473388671875\n",
            "epoch: 77 Loss: 7.158414363861084\n",
            "epoch: 78 Loss: 7.150880336761475\n",
            "epoch: 79 Loss: 7.143835544586182\n",
            "epoch: 80 Loss: 7.137248516082764\n",
            "epoch: 81 Loss: 7.13109016418457\n",
            "epoch: 82 Loss: 7.125332832336426\n",
            "epoch: 83 Loss: 7.1199469566345215\n",
            "epoch: 84 Loss: 7.114911079406738\n",
            "epoch: 85 Loss: 7.110201358795166\n",
            "epoch: 86 Loss: 7.105795383453369\n",
            "epoch: 87 Loss: 7.101675033569336\n",
            "epoch: 88 Loss: 7.0978193283081055\n",
            "epoch: 89 Loss: 7.094213485717773\n",
            "epoch: 90 Loss: 7.090839385986328\n",
            "epoch: 91 Loss: 7.087681770324707\n",
            "epoch: 92 Loss: 7.084728240966797\n",
            "epoch: 93 Loss: 7.081961631774902\n",
            "epoch: 94 Loss: 7.079376220703125\n",
            "epoch: 95 Loss: 7.076954364776611\n",
            "epoch: 96 Loss: 7.074687480926514\n",
            "epoch: 97 Loss: 7.072566032409668\n",
            "epoch: 98 Loss: 7.0705790519714355\n",
            "epoch: 99 Loss: 7.068719863891602\n"
          ],
          "name": "stdout"
        }
      ]
    },
    {
      "cell_type": "code",
      "metadata": {
        "colab": {
          "base_uri": "https://localhost:8080/",
          "height": 298
        },
        "id": "pXkj4x7KJXYM",
        "outputId": "452b5ecf-de20-4685-bed7-043e612fe753"
      },
      "source": [
        "plt.plot(range(epochs),losses)\r\n",
        "plt.ylabel('loss')\r\n",
        "plt.xlabel('epochs')\r\n"
      ],
      "execution_count": null,
      "outputs": [
        {
          "output_type": "execute_result",
          "data": {
            "text/plain": [
              "Text(0.5, 0, 'epochs')"
            ]
          },
          "metadata": {
            "tags": []
          },
          "execution_count": 12
        },
        {
          "output_type": "display_data",
          "data": {
            "image/png": "[encoded data removed]",
            "text/plain": [
              "<Figure size 432x288 with 1 Axes>"
            ]
          },
          "metadata": {
            "tags": [],
            "needs_background": "light"
          }
        }
      ]
    },
    {
      "cell_type": "code",
      "metadata": {
        "colab": {
          "base_uri": "https://localhost:8080/",
          "height": 265
        },
        "id": "4hxT0QxgKgUE",
        "outputId": "cce7642f-6deb-4d40-fd5e-a6c13be231dd"
      },
      "source": [
        "plot_fit('Trained model')"
      ],
      "execution_count": null,
      "outputs": [
        {
          "output_type": "display_data",
          "data": {
            "image/png": "[encoded data removed]",
            "text/plain": [
              "<Figure size 432x288 with 1 Axes>"
            ]
          },
          "metadata": {
            "tags": [],
            "needs_background": "light"
          }
        }
      ]
    }
  ]
}